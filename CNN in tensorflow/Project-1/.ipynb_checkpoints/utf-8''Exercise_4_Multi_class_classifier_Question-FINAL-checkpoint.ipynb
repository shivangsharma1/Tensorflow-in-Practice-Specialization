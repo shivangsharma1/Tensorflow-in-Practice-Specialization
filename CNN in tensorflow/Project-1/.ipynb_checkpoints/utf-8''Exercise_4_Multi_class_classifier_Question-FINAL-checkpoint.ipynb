{
 "cells": [
  {
   "cell_type": "code",
   "execution_count": 1,
   "metadata": {
    "colab": {},
    "colab_type": "code",
    "id": "wYtuKeK0dImp"
   },
   "outputs": [],
   "source": [
    "import csv\n",
    "import numpy as np\n",
    "import tensorflow as tf\n",
    "from tensorflow.keras.preprocessing.image import ImageDataGenerator\n",
    "from os import getcwd"
   ]
  },
  {
   "cell_type": "code",
   "execution_count": 2,
   "metadata": {
    "colab": {},
    "colab_type": "code",
    "id": "4kxw-_rmcnVu"
   },
   "outputs": [
    {
     "name": "stdout",
     "output_type": "stream",
     "text": [
      "(27455, 28, 28)\n",
      "(27455,)\n",
      "(7172, 28, 28)\n",
      "(7172,)\n"
     ]
    }
   ],
   "source": [
    "def get_data(filename):\n",
    "  # You will need to write code that will read the file passed\n",
    "  # into this function. The first line contains the column headers\n",
    "  # so you should ignore it\n",
    "  # Each successive line contians 785 comma separated values between 0 and 255\n",
    "  # The first value is the label\n",
    "  # The rest are the pixel values for that picture\n",
    "  # The function will return 2 np.array types. One with all the labels\n",
    "  # One with all the images\n",
    "  #\n",
    "  # Tips: \n",
    "  # If you read a full line (as 'row') then row[0] has the label\n",
    "  # and row[1:785] has the 784 pixel values\n",
    "  # Take a look at np.array_split to turn the 784 pixels into 28x28\n",
    "  # You are reading in strings, but need the values to be floats\n",
    "  # Check out np.array().astype for a conversion\n",
    "    with open(filename) as training_file:\n",
    "      # Your code starts here\n",
    "        images = []\n",
    "        labels = []\n",
    "        file = csv.reader(training_file,delimiter=',')\n",
    "        first_row = True\n",
    "        \n",
    "        for row in file:\n",
    "            if first_row:\n",
    "                first_row = False\n",
    "            else:\n",
    "                label = row[0]\n",
    "                image = row[1:]\n",
    "                image = np.array(image).reshape((28,28))\n",
    "                \n",
    "                images.append(image)\n",
    "                labels.append(label)\n",
    "                \n",
    "        images = np.array(images).astype(float)\n",
    "        labels = np.array(labels).astype(float)\n",
    "\n",
    "      # Your code ends here\n",
    "    return images, labels\n",
    "\n",
    "path_sign_mnist_train = f\"{getcwd()}/../tmp2/sign_mnist_train.csv\"\n",
    "path_sign_mnist_test = f\"{getcwd()}/../tmp2/sign_mnist_test.csv\"\n",
    "training_images, training_labels = get_data(path_sign_mnist_train)\n",
    "testing_images, testing_labels = get_data(path_sign_mnist_test)\n",
    "\n",
    "# Keep these\n",
    "print(training_images.shape)\n",
    "print(training_labels.shape)\n",
    "print(testing_images.shape)\n",
    "print(testing_labels.shape)\n",
    "\n",
    "# Their output should be:\n",
    "# (27455, 28, 28)\n",
    "# (27455,)\n",
    "# (7172, 28, 28)\n",
    "# (7172,)"
   ]
  },
  {
   "cell_type": "code",
   "execution_count": 3,
   "metadata": {
    "colab": {},
    "colab_type": "code",
    "id": "awoqRpyZdQkD"
   },
   "outputs": [
    {
     "name": "stdout",
     "output_type": "stream",
     "text": [
      "(27455, 28, 28, 1)\n",
      "(7172, 28, 28, 1)\n"
     ]
    }
   ],
   "source": [
    "# In this section you will have to add another dimension to the data\n",
    "# So, for example, if your array is (10000, 28, 28)\n",
    "# You will need to make it (10000, 28, 28, 1)\n",
    "# Hint: np.expand_dims\n",
    "\n",
    "training_images = np.expand_dims(training_images,axis=3)\n",
    "testing_images = np.expand_dims(testing_images,axis=3)\n",
    "\n",
    "# Create an ImageDataGenerator and do Image Augmentation\n",
    "train_datagen = ImageDataGenerator(\n",
    "    # Your Code Here\n",
    "    rescale=1. / 255,\n",
    "    rotation_range=40,\n",
    "    width_shift_range=0.2,\n",
    "    height_shift_range=0.2,\n",
    "    shear_range=0.2,\n",
    "    zoom_range=0.2,\n",
    "    horizontal_flip=True,\n",
    "    fill_mode='nearest'\n",
    "    )\n",
    "\n",
    "validation_datagen = ImageDataGenerator(\n",
    "    # Your Code Here\n",
    "    rescale=1. / 255\n",
    "    )\n",
    "    \n",
    "# Keep These\n",
    "print(training_images.shape)\n",
    "print(testing_images.shape)\n",
    "    \n",
    "# Their output should be:\n",
    "# (27455, 28, 28, 1)\n",
    "# (7172, 28, 28, 1)"
   ]
  },
  {
   "cell_type": "code",
   "execution_count": null,
   "metadata": {
    "colab": {},
    "colab_type": "code",
    "id": "Rmb7S32cgRqS",
    "scrolled": false
   },
   "outputs": [
    {
     "name": "stdout",
     "output_type": "stream",
     "text": [
      "Epoch 1/20\n",
      "1373/1373 [==============================] - 98s 72ms/step - loss: 2.6986 - acc: 0.1762 - val_loss: 1.9019 - val_acc: 0.3681\n",
      "Epoch 2/20\n",
      "1373/1373 [==============================] - 91s 66ms/step - loss: 1.8629 - acc: 0.4070 - val_loss: 1.0333 - val_acc: 0.6376\n",
      "Epoch 3/20\n",
      "1373/1373 [==============================] - 95s 69ms/step - loss: 1.4887 - acc: 0.5170 - val_loss: 0.8242 - val_acc: 0.7217\n",
      "Epoch 4/20\n",
      "1373/1373 [==============================] - 91s 66ms/step - loss: 1.2628 - acc: 0.5881 - val_loss: 0.7655 - val_acc: 0.7292\n",
      "Epoch 5/20\n",
      "1373/1373 [==============================] - 92s 67ms/step - loss: 1.1438 - acc: 0.6246 - val_loss: 0.5525 - val_acc: 0.8210\n",
      "Epoch 6/20\n",
      "1373/1373 [==============================] - 93s 68ms/step - loss: 1.0361 - acc: 0.6568 - val_loss: 0.5000 - val_acc: 0.8272\n",
      "Epoch 7/20\n",
      "1373/1373 [==============================] - 94s 68ms/step - loss: 0.9440 - acc: 0.6881 - val_loss: 0.4103 - val_acc: 0.8629\n",
      "Epoch 8/20\n",
      "1373/1373 [==============================] - 93s 68ms/step - loss: 0.8786 - acc: 0.7054 - val_loss: 0.4467 - val_acc: 0.8337\n",
      "Epoch 9/20\n",
      "1373/1373 [==============================] - 91s 66ms/step - loss: 0.8337 - acc: 0.7219 - val_loss: 0.3763 - val_acc: 0.8773\n",
      "Epoch 10/20\n",
      "1373/1373 [==============================] - 91s 66ms/step - loss: 0.8011 - acc: 0.7327 - val_loss: 0.3810 - val_acc: 0.8698\n",
      "Epoch 11/20\n",
      "1373/1373 [==============================] - 90s 66ms/step - loss: 0.7433 - acc: 0.7532 - val_loss: 0.3293 - val_acc: 0.8799\n",
      "Epoch 12/20\n",
      "1373/1373 [==============================] - 93s 68ms/step - loss: 0.7239 - acc: 0.7543 - val_loss: 0.3569 - val_acc: 0.8772\n",
      "Epoch 13/20\n",
      "1373/1373 [==============================] - 92s 67ms/step - loss: 0.6843 - acc: 0.7699 - val_loss: 0.2521 - val_acc: 0.9115\n",
      "Epoch 14/20\n",
      "1373/1373 [==============================] - 88s 64ms/step - loss: 0.6679 - acc: 0.7752 - val_loss: 0.2795 - val_acc: 0.8956\n",
      "Epoch 15/20\n",
      "1373/1373 [==============================] - 93s 68ms/step - loss: 0.6326 - acc: 0.7857 - val_loss: 0.1970 - val_acc: 0.9334\n",
      "Epoch 16/20\n",
      "1373/1373 [==============================] - 93s 67ms/step - loss: 0.6158 - acc: 0.7950 - val_loss: 0.2177 - val_acc: 0.9293\n",
      "Epoch 17/20\n",
      "1373/1373 [==============================] - 91s 66ms/step - loss: 0.5922 - acc: 0.8014 - val_loss: 0.2431 - val_acc: 0.9172\n",
      "Epoch 18/20\n",
      "1373/1373 [==============================] - 90s 66ms/step - loss: 0.5739 - acc: 0.8064 - val_loss: 0.1948 - val_acc: 0.9286\n",
      "Epoch 19/20\n",
      "1373/1373 [==============================] - 91s 66ms/step - loss: 0.5641 - acc: 0.8088 - val_loss: 0.1730 - val_acc: 0.9513\n",
      "Epoch 20/20\n",
      " 118/1373 [=>............................] - ETA: 1:13 - loss: 0.5038 - acc: 0.8276"
     ]
    }
   ],
   "source": [
    "# Define the model\n",
    "# Use no more than 2 Conv2D and 2 MaxPooling2D\n",
    "model = tf.keras.models.Sequential([\n",
    "    # Your Code Here\n",
    "    tf.keras.layers.Conv2D(64,(3,3),input_shape=(28,28,1),activation='relu'),\n",
    "    tf.keras.layers.MaxPooling2D(2,2),\n",
    "    tf.keras.layers.Conv2D(128,(3,3),activation='relu'),\n",
    "    tf.keras.layers.MaxPooling2D(2,2),\n",
    "    tf.keras.layers.Flatten(),\n",
    "    tf.keras.layers.Dropout(0.2),\n",
    "    tf.keras.layers.Dense(128,activation='relu'),\n",
    "    tf.keras.layers.Dense(26,activation='softmax')\n",
    "    ])\n",
    "\n",
    "# Compile Model. \n",
    "model.compile(loss='sparse_categorical_crossentropy',optimizer='adam',metrics=['acc'])\n",
    "\n",
    "train_generator = train_datagen.flow(training_images,training_labels,batch_size=20)\n",
    "\n",
    "validation_generator = validation_datagen.flow(testing_images,testing_labels,batch_size=20)\n",
    "\n",
    "# Train the Model\n",
    "history = model.fit_generator(train_generator,epochs=20,validation_data=validation_generator)\n",
    "\n",
    "model.evaluate(testing_images, testing_labels, verbose=0)"
   ]
  },
  {
   "cell_type": "code",
   "execution_count": null,
   "metadata": {
    "colab": {},
    "colab_type": "code",
    "id": "_Q3Zpr46dsij"
   },
   "outputs": [],
   "source": [
    "# Plot the chart for accuracy and loss on both training and validation\n",
    "%matplotlib inline\n",
    "import matplotlib.pyplot as plt\n",
    "acc = history.history['acc']\n",
    "val_acc = history.history['val_acc']\n",
    "loss = history.history['loss']\n",
    "val_loss = history.history['val_loss']\n",
    "\n",
    "epochs = range(len(acc))\n",
    "\n",
    "plt.plot(epochs, acc, 'r', label='Training accuracy')\n",
    "plt.plot(epochs, val_acc, 'b', label='Validation accuracy')\n",
    "plt.title('Training and validation accuracy')\n",
    "plt.legend()\n",
    "plt.figure()\n",
    "\n",
    "plt.plot(epochs, loss, 'r', label='Training Loss')\n",
    "plt.plot(epochs, val_loss, 'b', label='Validation Loss')\n",
    "plt.title('Training and validation loss')\n",
    "plt.legend()\n",
    "\n",
    "plt.show()"
   ]
  },
  {
   "cell_type": "markdown",
   "metadata": {},
   "source": [
    "# Submission Instructions"
   ]
  },
  {
   "cell_type": "code",
   "execution_count": null,
   "metadata": {},
   "outputs": [],
   "source": [
    "# Now click the 'Submit Assignment' button above."
   ]
  },
  {
   "cell_type": "markdown",
   "metadata": {},
   "source": [
    "# When you're done or would like to take a break, please run the two cells below to save your work and close the Notebook. This will free up resources for your fellow learners. "
   ]
  },
  {
   "cell_type": "code",
   "execution_count": null,
   "metadata": {},
   "outputs": [],
   "source": [
    "%%javascript\n",
    "<!-- Save the notebook -->\n",
    "IPython.notebook.save_checkpoint();"
   ]
  },
  {
   "cell_type": "code",
   "execution_count": null,
   "metadata": {},
   "outputs": [],
   "source": []
  }
 ],
 "metadata": {
  "colab": {
   "name": "Exercise 8 - Question.ipynb",
   "provenance": []
  },
  "coursera": {
   "course_slug": "convolutional-neural-networks-tensorflow",
   "graded_item_id": "8mIh8",
   "launcher_item_id": "gg95t"
  },
  "kernelspec": {
   "display_name": "Python 3",
   "language": "python",
   "name": "python3"
  },
  "language_info": {
   "codemirror_mode": {
    "name": "ipython",
    "version": 3
   },
   "file_extension": ".py",
   "mimetype": "text/x-python",
   "name": "python",
   "nbconvert_exporter": "python",
   "pygments_lexer": "ipython3",
   "version": "3.7.7"
  }
 },
 "nbformat": 4,
 "nbformat_minor": 1
}
