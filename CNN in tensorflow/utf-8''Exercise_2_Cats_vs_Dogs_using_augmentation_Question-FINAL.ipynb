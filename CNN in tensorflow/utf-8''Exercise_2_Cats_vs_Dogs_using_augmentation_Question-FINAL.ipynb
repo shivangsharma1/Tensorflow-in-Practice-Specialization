{
 "cells": [
  {
   "cell_type": "code",
   "execution_count": 1,
   "metadata": {
    "colab": {},
    "colab_type": "code",
    "id": "dn-6c02VmqiN"
   },
   "outputs": [],
   "source": [
    "# ATTENTION: Please do not alter any of the provided code in the exercise. Only add your own code where indicated\n",
    "# ATTENTION: Please do not add or remove any cells in the exercise. The grader will check specific cells based on the cell position.\n",
    "# ATTENTION: Please use the provided epoch values when training.\n",
    "\n",
    "# In this exercise you will train a CNN on the FULL Cats-v-dogs dataset\n",
    "# This will require you doing a lot of data preprocessing because\n",
    "# the dataset isn't split into training and validation for you\n",
    "# This code block has all the required inputs\n",
    "import os\n",
    "import zipfile\n",
    "import random\n",
    "import shutil\n",
    "import tensorflow as tf\n",
    "from tensorflow.keras.optimizers import RMSprop\n",
    "from tensorflow.keras.preprocessing.image import ImageDataGenerator\n",
    "from shutil import copyfile\n",
    "from os import getcwd"
   ]
  },
  {
   "cell_type": "code",
   "execution_count": 2,
   "metadata": {
    "colab": {},
    "colab_type": "code",
    "id": "3sd9dQWa23aj"
   },
   "outputs": [],
   "source": [
    "# This code block unzips the full Cats-v-Dogs dataset to /tmp\n",
    "# which will create a tmp/PetImages directory containing subdirectories\n",
    "# called 'Cat' and 'Dog' (that's how the original researchers structured it)\n",
    "path_cats_and_dogs = f\"{getcwd()}/../tmp2/cats-and-dogs.zip\"\n",
    "shutil.rmtree('/tmp')\n",
    "\n",
    "local_zip = path_cats_and_dogs\n",
    "zip_ref = zipfile.ZipFile(local_zip, 'r')\n",
    "zip_ref.extractall('/tmp')\n",
    "zip_ref.close()"
   ]
  },
  {
   "cell_type": "code",
   "execution_count": 3,
   "metadata": {
    "colab": {},
    "colab_type": "code",
    "id": "gi3yD62a6X3S"
   },
   "outputs": [
    {
     "name": "stdout",
     "output_type": "stream",
     "text": [
      "1500\n",
      "1500\n"
     ]
    }
   ],
   "source": [
    "print(len(os.listdir('/tmp/PetImages/Cat/')))\n",
    "print(len(os.listdir('/tmp/PetImages/Dog/')))\n",
    "\n",
    "# Expected Output:\n",
    "# 1500\n",
    "# 1500"
   ]
  },
  {
   "cell_type": "code",
   "execution_count": 4,
   "metadata": {
    "colab": {},
    "colab_type": "code",
    "id": "F-QkLjxpmyK2"
   },
   "outputs": [
    {
     "name": "stdout",
     "output_type": "stream",
     "text": [
      "Directory successfully created:  /tmp/cats-v-dogs\n",
      "Directory successfully created:  /tmp/cats-v-dogs/training\n",
      "Directory successfully created:  /tmp/cats-v-dogs/testing\n",
      "Directory successfully created:  /tmp/cats-v-dogs/training/cats\n",
      "Directory successfully created:  /tmp/cats-v-dogs/training/dogs\n",
      "Directory successfully created:  /tmp/cats-v-dogs/testing/cats\n",
      "Directory successfully created:  /tmp/cats-v-dogs/testing/dogs\n"
     ]
    }
   ],
   "source": [
    "# Use os.mkdir to create your directories\n",
    "# You will need a directory for cats-v-dogs, and subdirectories for training\n",
    "# and testing. These in turn will need subdirectories for 'cats' and 'dogs'\n",
    "dir_to_create=['/tmp/cats-v-dogs','/tmp/cats-v-dogs/training','/tmp/cats-v-dogs/testing','/tmp/cats-v-dogs/training/cats','/tmp/cats-v-dogs/training/dogs','/tmp/cats-v-dogs/testing/cats','/tmp/cats-v-dogs/testing/dogs']\n",
    "try:\n",
    "    #YOUR CODE GOES HERE\n",
    "    for dirs in dir_to_create:\n",
    "        os.mkdir(dirs)\n",
    "        print(\"Directory successfully created: \",dirs)\n",
    "except OSError:\n",
    "    print(\"Error in creation\")"
   ]
  },
  {
   "cell_type": "code",
   "execution_count": 5,
   "metadata": {
    "colab": {},
    "colab_type": "code",
    "id": "zvSODo0f9LaU"
   },
   "outputs": [],
   "source": [
    "# Write a python function called split_data which takes\n",
    "# a SOURCE directory containing the files\n",
    "# a TRAINING directory that a portion of the files will be copied to\n",
    "# a TESTING directory that a portion of the files will be copie to\n",
    "# a SPLIT SIZE to determine the portion\n",
    "# The files should also be randomized, so that the training set is a random\n",
    "# X% of the files, and the test set is the remaining files\n",
    "# SO, for example, if SOURCE is PetImages/Cat, and SPLIT SIZE is .9\n",
    "# Then 90% of the images in PetImages/Cat will be copied to the TRAINING dir\n",
    "# and 10% of the images will be copied to the TESTING dir\n",
    "# Also -- All images should be checked, and if they have a zero file length,\n",
    "# they will not be copied over\n",
    "#\n",
    "# os.listdir(DIRECTORY) gives you a listing of the contents of that directory\n",
    "# os.path.getsize(PATH) gives you the size of the file\n",
    "# copyfile(source, destination) copies a file from source to destination\n",
    "# random.sample(list, len(list)) shuffles a list\n",
    "def split_data(SOURCE, TRAINING, TESTING, SPLIT_SIZE):\n",
    "# YOUR CODE STARTS HERE\n",
    "    total_files = []\n",
    "    \n",
    "    for file in os.listdir(SOURCE):\n",
    "        path = SOURCE + file\n",
    "        \n",
    "        if os.path.getsize(path):\n",
    "            total_files.append(file)\n",
    "        else:\n",
    "            print(\"file skipped\")\n",
    "            \n",
    "    length = len(total_files)\n",
    "    split_point = int(length*SPLIT_SIZE)\n",
    "    \n",
    "    shuffle = random.sample(total_files,length)\n",
    "    train_set = shuffle[:split_point]\n",
    "    test_set = shuffle[split_point:]\n",
    "    \n",
    "    for file in train_set:\n",
    "        copyfile(SOURCE + file, TRAINING + file)\n",
    "    \n",
    "    for file in test_set:\n",
    "        copyfile(SOURCE + file, TESTING + file)\n",
    "        \n",
    "        \n",
    "# YOUR CODE ENDS HERE\n",
    "\n",
    "\n",
    "CAT_SOURCE_DIR = \"/tmp/PetImages/Cat/\"\n",
    "TRAINING_CATS_DIR = \"/tmp/cats-v-dogs/training/cats/\"\n",
    "TESTING_CATS_DIR = \"/tmp/cats-v-dogs/testing/cats/\"\n",
    "DOG_SOURCE_DIR = \"/tmp/PetImages/Dog/\"\n",
    "TRAINING_DOGS_DIR = \"/tmp/cats-v-dogs/training/dogs/\"\n",
    "TESTING_DOGS_DIR = \"/tmp/cats-v-dogs/testing/dogs/\"\n",
    "\n",
    "split_size = .9\n",
    "split_data(CAT_SOURCE_DIR, TRAINING_CATS_DIR, TESTING_CATS_DIR, split_size)\n",
    "split_data(DOG_SOURCE_DIR, TRAINING_DOGS_DIR, TESTING_DOGS_DIR, split_size)"
   ]
  },
  {
   "cell_type": "code",
   "execution_count": 6,
   "metadata": {
    "colab": {},
    "colab_type": "code",
    "id": "luthalB76ufC"
   },
   "outputs": [
    {
     "name": "stdout",
     "output_type": "stream",
     "text": [
      "1350\n",
      "1350\n",
      "150\n",
      "150\n"
     ]
    }
   ],
   "source": [
    "print(len(os.listdir('/tmp/cats-v-dogs/training/cats/')))\n",
    "print(len(os.listdir('/tmp/cats-v-dogs/training/dogs/')))\n",
    "print(len(os.listdir('/tmp/cats-v-dogs/testing/cats/')))\n",
    "print(len(os.listdir('/tmp/cats-v-dogs/testing/dogs/')))\n",
    "\n",
    "# Expected output:\n",
    "# 1350\n",
    "# 1350\n",
    "# 150\n",
    "# 150"
   ]
  },
  {
   "cell_type": "code",
   "execution_count": 7,
   "metadata": {
    "colab": {},
    "colab_type": "code",
    "id": "-BQrav4anTmj"
   },
   "outputs": [],
   "source": [
    "# DEFINE A KERAS MODEL TO CLASSIFY CATS V DOGS\n",
    "# USE AT LEAST 3 CONVOLUTION LAYERS\n",
    "model = tf.keras.models.Sequential([\n",
    "# YOUR CODE HERE\n",
    "    tf.keras.layers.Conv2D(32,(3,3),activation='relu',input_shape=(150,150,3)),\n",
    "    tf.keras.layers.MaxPooling2D(2,2),\n",
    "    tf.keras.layers.Conv2D(64,(3,3),activation='relu'),\n",
    "    tf.keras.layers.MaxPooling2D(2,2),\n",
    "    tf.keras.layers.Conv2D(64,(3,3),activation='relu'),\n",
    "    tf.keras.layers.MaxPooling2D(2,2),\n",
    "    tf.keras.layers.Conv2D(128,(3,3),activation='relu'),\n",
    "    tf.keras.layers.MaxPooling2D(2,2),\n",
    "    tf.keras.layers.Flatten(),\n",
    "    tf.keras.layers.Dense(512,activation='relu'),\n",
    "    tf.keras.layers.Dense(128,activation='relu'),\n",
    "    tf.keras.layers.Dense(1,activation='sigmoid')\n",
    "])\n",
    "\n",
    "model.compile(optimizer=RMSprop(lr=0.001), loss='binary_crossentropy', metrics=['acc'])"
   ]
  },
  {
   "cell_type": "markdown",
   "metadata": {},
   "source": [
    "# NOTE:\n",
    "\n",
    "In the cell below you **MUST** use a batch size of 10 (`batch_size=10`) for the `train_generator` and the `validation_generator`. Using a batch size greater than 10 will exceed memory limits on the Coursera platform."
   ]
  },
  {
   "cell_type": "code",
   "execution_count": 8,
   "metadata": {
    "colab": {},
    "colab_type": "code",
    "id": "mlNjoJ5D61N6"
   },
   "outputs": [
    {
     "name": "stdout",
     "output_type": "stream",
     "text": [
      "Found 2700 images belonging to 2 classes.\n",
      "Found 300 images belonging to 2 classes.\n"
     ]
    }
   ],
   "source": [
    "TRAINING_DIR = '/tmp/cats-v-dogs/training'\n",
    "train_datagen = ImageDataGenerator(\n",
    "      rescale=1./255,\n",
    "      rotation_range=40,\n",
    "      width_shift_range=0.2,\n",
    "      height_shift_range=0.2,\n",
    "      shear_range=0.2,\n",
    "      zoom_range=0.2,\n",
    "      horizontal_flip=True,\n",
    "      fill_mode='nearest')\n",
    "\n",
    "# NOTE: YOU MUST USE A BATCH SIZE OF 10 (batch_size=10) FOR THE \n",
    "# TRAIN GENERATOR.\n",
    "train_generator = train_datagen.flow_from_directory(TRAINING_DIR,target_size=(150,150),batch_size=10,class_mode='binary')\n",
    "\n",
    "VALIDATION_DIR = '/tmp/cats-v-dogs/testing'\n",
    "validation_datagen = ImageDataGenerator(rescale=1./255)\n",
    "\n",
    "# NOTE: YOU MUST USE A BACTH SIZE OF 10 (batch_size=10) FOR THE \n",
    "# VALIDATION GENERATOR.\n",
    "validation_generator = validation_datagen.flow_from_directory(VALIDATION_DIR,target_size=(150,150),batch_size=10,class_mode='binary')\n",
    "\n",
    "\n",
    "\n",
    "# Expected Output:\n",
    "# Found 2700 images belonging to 2 classes.\n",
    "# Found 300 images belonging to 2 classes."
   ]
  },
  {
   "cell_type": "code",
   "execution_count": 10,
   "metadata": {
    "colab": {},
    "colab_type": "code",
    "id": "KyS4n53w7DxC"
   },
   "outputs": [
    {
     "name": "stdout",
     "output_type": "stream",
     "text": [
      "Epoch 1/50\n",
      "270/270 [==============================] - 67s 247ms/step - loss: 0.6383 - acc: 0.6515 - val_loss: 0.5837 - val_acc: 0.7000\n",
      "Epoch 2/50\n",
      "270/270 [==============================] - 64s 237ms/step - loss: 0.6334 - acc: 0.6644 - val_loss: 0.5903 - val_acc: 0.6700\n",
      "Epoch 3/50\n",
      "270/270 [==============================] - 64s 237ms/step - loss: 0.6383 - acc: 0.6674 - val_loss: 0.6239 - val_acc: 0.6900\n",
      "Epoch 4/50\n",
      "270/270 [==============================] - 64s 238ms/step - loss: 0.6192 - acc: 0.6693 - val_loss: 0.5766 - val_acc: 0.6767\n",
      "Epoch 5/50\n",
      "270/270 [==============================] - 65s 239ms/step - loss: 0.6149 - acc: 0.6870 - val_loss: 0.5700 - val_acc: 0.7133\n",
      "Epoch 6/50\n",
      "270/270 [==============================] - 64s 239ms/step - loss: 0.6098 - acc: 0.6785 - val_loss: 0.5721 - val_acc: 0.6800\n",
      "Epoch 7/50\n",
      "270/270 [==============================] - 64s 238ms/step - loss: 0.6129 - acc: 0.6900 - val_loss: 0.5884 - val_acc: 0.6867\n",
      "Epoch 8/50\n",
      "270/270 [==============================] - 64s 237ms/step - loss: 0.6583 - acc: 0.6937 - val_loss: 0.5475 - val_acc: 0.7400\n",
      "Epoch 9/50\n",
      "270/270 [==============================] - 64s 237ms/step - loss: 0.5948 - acc: 0.6937 - val_loss: 0.6640 - val_acc: 0.6800\n",
      "Epoch 10/50\n",
      "270/270 [==============================] - 65s 239ms/step - loss: 0.6147 - acc: 0.6989 - val_loss: 0.5474 - val_acc: 0.7200\n",
      "Epoch 11/50\n",
      "270/270 [==============================] - 67s 246ms/step - loss: 0.5903 - acc: 0.7011 - val_loss: 0.5515 - val_acc: 0.7367\n",
      "Epoch 12/50\n",
      "270/270 [==============================] - 66s 244ms/step - loss: 0.6052 - acc: 0.6985 - val_loss: 0.6658 - val_acc: 0.6433\n",
      "Epoch 13/50\n",
      "270/270 [==============================] - 65s 241ms/step - loss: 0.5841 - acc: 0.7126 - val_loss: 0.5252 - val_acc: 0.7733\n",
      "Epoch 14/50\n",
      "270/270 [==============================] - 67s 248ms/step - loss: 0.5800 - acc: 0.7211 - val_loss: 0.5481 - val_acc: 0.7367\n",
      "Epoch 15/50\n",
      "270/270 [==============================] - 64s 238ms/step - loss: 0.5915 - acc: 0.7052 - val_loss: 0.5469 - val_acc: 0.7367\n",
      "Epoch 16/50\n",
      "270/270 [==============================] - 65s 240ms/step - loss: 0.6194 - acc: 0.7030 - val_loss: 0.5645 - val_acc: 0.7533\n",
      "Epoch 17/50\n",
      "270/270 [==============================] - 65s 241ms/step - loss: 0.6207 - acc: 0.7030 - val_loss: 0.5625 - val_acc: 0.7667\n",
      "Epoch 18/50\n",
      "270/270 [==============================] - 65s 241ms/step - loss: 0.6137 - acc: 0.7163 - val_loss: 0.5693 - val_acc: 0.7167\n",
      "Epoch 19/50\n",
      "270/270 [==============================] - 66s 244ms/step - loss: 0.5914 - acc: 0.7078 - val_loss: 0.5872 - val_acc: 0.7000\n",
      "Epoch 20/50\n",
      "270/270 [==============================] - 65s 239ms/step - loss: 0.6011 - acc: 0.6996 - val_loss: 0.5812 - val_acc: 0.7400\n",
      "Epoch 21/50\n",
      "270/270 [==============================] - 66s 245ms/step - loss: 0.5863 - acc: 0.7204 - val_loss: 0.5423 - val_acc: 0.7733\n",
      "Epoch 22/50\n",
      "270/270 [==============================] - 66s 246ms/step - loss: 0.6033 - acc: 0.6944 - val_loss: 0.6091 - val_acc: 0.7433\n",
      "Epoch 23/50\n",
      "270/270 [==============================] - 67s 247ms/step - loss: 0.6293 - acc: 0.6915 - val_loss: 0.5531 - val_acc: 0.7500\n",
      "Epoch 24/50\n",
      "270/270 [==============================] - 64s 237ms/step - loss: 0.6227 - acc: 0.6970 - val_loss: 0.6072 - val_acc: 0.7400\n",
      "Epoch 25/50\n",
      "270/270 [==============================] - 65s 241ms/step - loss: 0.6125 - acc: 0.7096 - val_loss: 0.5940 - val_acc: 0.7533\n",
      "Epoch 26/50\n",
      "270/270 [==============================] - 65s 239ms/step - loss: 0.6047 - acc: 0.6989 - val_loss: 0.7036 - val_acc: 0.7567\n",
      "Epoch 27/50\n",
      "270/270 [==============================] - 65s 239ms/step - loss: 0.6355 - acc: 0.7070 - val_loss: 0.5273 - val_acc: 0.7867\n",
      "Epoch 28/50\n",
      "270/270 [==============================] - 65s 240ms/step - loss: 0.6159 - acc: 0.7063 - val_loss: 0.5708 - val_acc: 0.7133\n",
      "Epoch 29/50\n",
      "270/270 [==============================] - 65s 241ms/step - loss: 0.5847 - acc: 0.7011 - val_loss: 0.6041 - val_acc: 0.7533\n",
      "Epoch 30/50\n",
      "270/270 [==============================] - 66s 243ms/step - loss: 0.6031 - acc: 0.6878 - val_loss: 0.6212 - val_acc: 0.7433\n",
      "Epoch 31/50\n",
      "270/270 [==============================] - 62s 231ms/step - loss: 0.5899 - acc: 0.7089 - val_loss: 0.6589 - val_acc: 0.7200\n",
      "Epoch 32/50\n",
      "270/270 [==============================] - 63s 234ms/step - loss: 0.5834 - acc: 0.7119 - val_loss: 0.6821 - val_acc: 0.7400\n",
      "Epoch 33/50\n",
      "270/270 [==============================] - 64s 236ms/step - loss: 0.5973 - acc: 0.7007 - val_loss: 0.6084 - val_acc: 0.7533\n",
      "Epoch 34/50\n",
      "270/270 [==============================] - 63s 235ms/step - loss: 0.5875 - acc: 0.7100 - val_loss: 0.8150 - val_acc: 0.7167\n",
      "Epoch 35/50\n",
      "270/270 [==============================] - 66s 246ms/step - loss: 0.6838 - acc: 0.7122 - val_loss: 0.6127 - val_acc: 0.6767\n",
      "Epoch 36/50\n",
      "270/270 [==============================] - 65s 242ms/step - loss: 1.0926 - acc: 0.6996 - val_loss: 0.8393 - val_acc: 0.7100\n",
      "Epoch 37/50\n",
      "270/270 [==============================] - 67s 247ms/step - loss: 0.6489 - acc: 0.7100 - val_loss: 0.6385 - val_acc: 0.6967\n",
      "Epoch 38/50\n",
      "270/270 [==============================] - 67s 247ms/step - loss: 0.6032 - acc: 0.7207 - val_loss: 0.6150 - val_acc: 0.7433\n",
      "Epoch 39/50\n",
      "270/270 [==============================] - 65s 239ms/step - loss: 0.6543 - acc: 0.7026 - val_loss: 0.5538 - val_acc: 0.7467\n",
      "Epoch 40/50\n",
      "270/270 [==============================] - 64s 238ms/step - loss: 0.6222 - acc: 0.7015 - val_loss: 0.6054 - val_acc: 0.7533\n",
      "Epoch 41/50\n",
      "270/270 [==============================] - 65s 242ms/step - loss: 0.6115 - acc: 0.7281 - val_loss: 0.5605 - val_acc: 0.7067\n",
      "Epoch 42/50\n",
      "270/270 [==============================] - 65s 239ms/step - loss: 0.6276 - acc: 0.7219 - val_loss: 0.6257 - val_acc: 0.6767\n",
      "Epoch 43/50\n",
      "270/270 [==============================] - 65s 241ms/step - loss: 0.6056 - acc: 0.7122 - val_loss: 0.5964 - val_acc: 0.7600\n",
      "Epoch 44/50\n",
      "270/270 [==============================] - 66s 244ms/step - loss: 0.6216 - acc: 0.7115 - val_loss: 0.5831 - val_acc: 0.6533\n",
      "Epoch 45/50\n",
      "270/270 [==============================] - 66s 243ms/step - loss: 0.5984 - acc: 0.7067 - val_loss: 0.5094 - val_acc: 0.7467\n",
      "Epoch 46/50\n",
      "270/270 [==============================] - 66s 244ms/step - loss: 0.6114 - acc: 0.7215 - val_loss: 0.5930 - val_acc: 0.7167\n",
      "Epoch 47/50\n",
      "270/270 [==============================] - 66s 245ms/step - loss: 0.6576 - acc: 0.7222 - val_loss: 0.6357 - val_acc: 0.7200\n",
      "Epoch 48/50\n",
      "270/270 [==============================] - 66s 246ms/step - loss: 0.6579 - acc: 0.7178 - val_loss: 0.5693 - val_acc: 0.7567\n",
      "Epoch 49/50\n",
      "270/270 [==============================] - 67s 248ms/step - loss: 0.6289 - acc: 0.7004 - val_loss: 0.6706 - val_acc: 0.5600\n",
      "Epoch 50/50\n",
      "270/270 [==============================] - 66s 246ms/step - loss: 0.7337 - acc: 0.6985 - val_loss: 1.3038 - val_acc: 0.7167\n"
     ]
    }
   ],
   "source": [
    "history = model.fit_generator(train_generator,\n",
    "                              epochs=50,\n",
    "                              verbose=1,\n",
    "                              validation_data=validation_generator)\n"
   ]
  },
  {
   "cell_type": "code",
   "execution_count": 11,
   "metadata": {
    "colab": {},
    "colab_type": "code",
    "id": "MWZrJN4-65RC"
   },
   "outputs": [
    {
     "data": {
      "text/plain": [
       "Text(0.5, 1.0, 'Training and validation loss')"
      ]
     },
     "execution_count": 11,
     "metadata": {},
     "output_type": "execute_result"
    },
    {
     "data": {
      "image/png": "[encoded data removed]",
      "text/plain": [
       "<Figure size 432x288 with 1 Axes>"
      ]
     },
     "metadata": {
      "needs_background": "light"
     },
     "output_type": "display_data"
    },
    {
     "data": {
      "image/png": "[encoded data removed]",
      "text/plain": [
       "<Figure size 432x288 with 1 Axes>"
      ]
     },
     "metadata": {
      "needs_background": "light"
     },
     "output_type": "display_data"
    }
   ],
   "source": [
    "# PLOT LOSS AND ACCURACY\n",
    "%matplotlib inline\n",
    "\n",
    "import matplotlib.image  as mpimg\n",
    "import matplotlib.pyplot as plt\n",
    "\n",
    "#-----------------------------------------------------------\n",
    "# Retrieve a list of list results on training and test data\n",
    "# sets for each training epoch\n",
    "#-----------------------------------------------------------\n",
    "acc=history.history['acc']\n",
    "val_acc=history.history['val_acc']\n",
    "loss=history.history['loss']\n",
    "val_loss=history.history['val_loss']\n",
    "\n",
    "epochs=range(len(acc)) # Get number of epochs\n",
    "\n",
    "#------------------------------------------------\n",
    "# Plot training and validation accuracy per epoch\n",
    "#------------------------------------------------\n",
    "plt.plot(epochs, acc, 'r', \"Training Accuracy\")\n",
    "plt.plot(epochs, val_acc, 'b', \"Validation Accuracy\")\n",
    "plt.title('Training and validation accuracy')\n",
    "plt.figure()\n",
    "\n",
    "#------------------------------------------------\n",
    "# Plot training and validation loss per epoch\n",
    "#------------------------------------------------\n",
    "plt.plot(epochs, loss, 'r', \"Training Loss\")\n",
    "plt.plot(epochs, val_loss, 'b', \"Validation Loss\")\n",
    "\n",
    "\n",
    "plt.title('Training and validation loss')\n",
    "\n",
    "# Desired output. Charts with training and validation metrics. No crash :)"
   ]
  },
  {
   "cell_type": "markdown",
   "metadata": {},
   "source": [
    "# Submission Instructions"
   ]
  },
  {
   "cell_type": "code",
   "execution_count": null,
   "metadata": {},
   "outputs": [],
   "source": [
    "# Now click the 'Submit Assignment' button above."
   ]
  },
  {
   "cell_type": "markdown",
   "metadata": {},
   "source": [
    "# When you're done or would like to take a break, please run the two cells below to save your work and close the Notebook. This will free up resources for your fellow learners. "
   ]
  },
  {
   "cell_type": "code",
   "execution_count": 18,
   "metadata": {},
   "outputs": [
    {
     "data": {
      "application/javascript": [
       "<!-- Save the notebook -->\n",
       "IPython.notebook.save_checkpoint();\n"
      ],
      "text/plain": [
       "<IPython.core.display.Javascript object>"
      ]
     },
     "metadata": {},
     "output_type": "display_data"
    }
   ],
   "source": [
    "%%javascript\n",
    "<!-- Save the notebook -->\n",
    "IPython.notebook.save_checkpoint();"
   ]
  },
  {
   "cell_type": "code",
   "execution_count": null,
   "metadata": {},
   "outputs": [],
   "source": [
    "%%javascript\n",
    "IPython.notebook.session.delete();\n",
    "window.onbeforeunload = null\n",
    "setTimeout(function() { window.close(); }, 1000);"
   ]
  }
 ],
 "metadata": {
  "accelerator": "GPU",
  "colab": {
   "collapsed_sections": [],
   "name": "Exercise 6 - Question.ipynb",
   "provenance": []
  },
  "coursera": {
   "course_slug": "convolutional-neural-networks-tensorflow",
   "graded_item_id": "uAPOR",
   "launcher_item_id": "e9lTb"
  },
  "kernelspec": {
   "display_name": "Python 3",
   "language": "python",
   "name": "python3"
  },
  "language_info": {
   "codemirror_mode": {
    "name": "ipython",
    "version": 3
   },
   "file_extension": ".py",
   "mimetype": "text/x-python",
   "name": "python",
   "nbconvert_exporter": "python",
   "pygments_lexer": "ipython3",
   "version": "3.6.8"
  }
 },
 "nbformat": 4,
 "nbformat_minor": 1
}
